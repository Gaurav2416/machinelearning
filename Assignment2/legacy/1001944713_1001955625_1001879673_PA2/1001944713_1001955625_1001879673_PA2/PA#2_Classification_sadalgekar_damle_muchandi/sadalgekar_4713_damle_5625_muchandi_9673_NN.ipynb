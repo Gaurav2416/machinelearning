{
 "cells": [
  {
   "cell_type": "markdown",
   "metadata": {},
   "source": [
    "Name: Akshay Vinayak Sadalgekar - 1001944713\n",
    "\n",
    "Name: Aaditya Rajendra Damle - 1001955625\n",
    "\n",
    "Name: Aishwarya Muchandi - 1001879673"
   ]
  },
  {
   "cell_type": "markdown",
   "metadata": {},
   "source": [
    "# PA 2: Classification - Nearest Neighbors"
   ]
  },
  {
   "cell_type": "markdown",
   "metadata": {},
   "source": [
    "## Student Details (1 Point)\n",
    "\n",
    "First Student Name and ID: ABC 1001XXXXXX\n",
    "\n",
    "Second Student Name and ID: XYZ 1001XXXXXX\n",
    "\n",
    "\n",
    "\n",
    "Notes: When submitting, fill your name and ID in this cell.  [1 point]\n",
    "\n",
    "Make sure to write about any 4-5 line to explain any kind of visualization\n",
    "\n",
    "Do not to forget to cite any external sources used by you."
   ]
  },
  {
   "cell_type": "markdown",
   "metadata": {},
   "source": [
    "## Programming Assignment Submission Instructions (2 Points)\n",
    "\n",
    "Step 1: Rename this submission file as 'yourLastName_Last4digitsofyourID_DT.ipynb' [1 point]\n",
    "\n",
    "Step 2: Place this file inside the folder 'PA#2_Classification_yourLastName'  [1 point]\n",
    "\n",
    "**Do not upload the database file. Only two files are expected**[-20 points]\n"
   ]
  },
  {
   "cell_type": "markdown",
   "metadata": {},
   "source": [
    "## Programming Assignment Details (25 Points)\n",
    "\n",
    "For this assignment use Jupyter notebook, Panda, and scikit.\n",
    "* Load titanic.scv dataset from sklearn datasets. [1 points]\n",
    "* Select best 3 attributes for training and testing your model. [2 points]\n",
    "* Find the best K using elbow method. Explain what other ways can we use to find the best value of K. [3 points]\n",
    "* Split your dataset 75% for training, and 25% for testing the classifier. [2 points]\n",
    "* Use Euclidean distance.[3 points]\n",
    "* Test the classifier with three diferent numbers for neighbors and record the results.[3 points]\n",
    "* Use comments to explain your code and variable names.[2 points]\n",
    "* Calculate and print the confusion matrix, and the classification Report (includes:precision, recall, f1-score, and support) for all three different numbers. **Plot the Error rate vs. K-value**.[6 points]\n",
    "* Plot the classifier in a 2D projection.[3 points]"
   ]
  },
  {
   "cell_type": "markdown",
   "metadata": {},
   "source": [
    "# Report (22 Points)\n",
    "\n",
    "For each classification task you need to submit a report (PDF) that you have to:\n",
    "* Describe the Nearest Neighbors method. [5 points]\n",
    "* Explain what was your criteria for selecting the three attributes. What other 3 attribute can you choose? [7 points]\n",
    "* Visualizations of the classifier in a 2D projection, and write your observations in 4 - 5 lines. [5 points]\n",
    "* Interprete and compare the results.[5 points]\n",
    "\n",
    "Do not to forget to cite your sources!"
   ]
  },
  {
   "cell_type": "markdown",
   "metadata": {},
   "source": [
    "## <b>Please consult the TA before using any other packages apart from sklearn,numpy,pandas, matplotlib and seaborn<b>"
   ]
  },
  {
   "cell_type": "code",
   "execution_count": 1,
   "metadata": {},
   "outputs": [],
   "source": [
    "# Import Libraries\n",
    "import numpy as np\n",
    "import pandas as pd\n",
    "#for visualization\n",
    "import matplotlib.pyplot as plt\n",
    "%matplotlib inline\n",
    "import seaborn as sns\n",
    "import warnings\n",
    "warnings.filterwarnings('ignore')\n",
    "# for feature selection\n",
    "from sklearn.feature_selection import mutual_info_classif\n",
    "from sklearn.model_selection import train_test_split\n",
    "from sklearn.feature_selection import SelectKBest\n",
    "#knn\n",
    "from sklearn.metrics import classification_report, confusion_matrix\n",
    "from sklearn.neighbors import KNeighborsClassifier\n",
    "from sklearn import metrics"
   ]
  },
  {
   "cell_type": "code",
   "execution_count": 2,
   "metadata": {},
   "outputs": [
    {
     "data": {
      "text/html": [
       "<div>\n",
       "<style scoped>\n",
       "    .dataframe tbody tr th:only-of-type {\n",
       "        vertical-align: middle;\n",
       "    }\n",
       "\n",
       "    .dataframe tbody tr th {\n",
       "        vertical-align: top;\n",
       "    }\n",
       "\n",
       "    .dataframe thead th {\n",
       "        text-align: right;\n",
       "    }\n",
       "</style>\n",
       "<table border=\"1\" class=\"dataframe\">\n",
       "  <thead>\n",
       "    <tr style=\"text-align: right;\">\n",
       "      <th></th>\n",
       "      <th>Survived</th>\n",
       "      <th>Pclass</th>\n",
       "      <th>Name</th>\n",
       "      <th>Sex</th>\n",
       "      <th>Age</th>\n",
       "      <th>SibSp</th>\n",
       "      <th>Parch</th>\n",
       "      <th>Ticket</th>\n",
       "      <th>Fare</th>\n",
       "      <th>Cabin</th>\n",
       "      <th>Embarked</th>\n",
       "    </tr>\n",
       "  </thead>\n",
       "  <tbody>\n",
       "    <tr>\n",
       "      <th>0</th>\n",
       "      <td>0</td>\n",
       "      <td>3</td>\n",
       "      <td>Braund, Mr. Owen Harris</td>\n",
       "      <td>male</td>\n",
       "      <td>22.0</td>\n",
       "      <td>1</td>\n",
       "      <td>0</td>\n",
       "      <td>A/5 21171</td>\n",
       "      <td>7.2500</td>\n",
       "      <td>NaN</td>\n",
       "      <td>S</td>\n",
       "    </tr>\n",
       "    <tr>\n",
       "      <th>1</th>\n",
       "      <td>1</td>\n",
       "      <td>1</td>\n",
       "      <td>Cumings, Mrs. John Bradley (Florence Briggs Th...</td>\n",
       "      <td>female</td>\n",
       "      <td>38.0</td>\n",
       "      <td>1</td>\n",
       "      <td>0</td>\n",
       "      <td>PC 17599</td>\n",
       "      <td>71.2833</td>\n",
       "      <td>C85</td>\n",
       "      <td>C</td>\n",
       "    </tr>\n",
       "    <tr>\n",
       "      <th>2</th>\n",
       "      <td>1</td>\n",
       "      <td>3</td>\n",
       "      <td>Heikkinen, Miss. Laina</td>\n",
       "      <td>female</td>\n",
       "      <td>26.0</td>\n",
       "      <td>0</td>\n",
       "      <td>0</td>\n",
       "      <td>STON/O2. 3101282</td>\n",
       "      <td>7.9250</td>\n",
       "      <td>NaN</td>\n",
       "      <td>S</td>\n",
       "    </tr>\n",
       "    <tr>\n",
       "      <th>3</th>\n",
       "      <td>1</td>\n",
       "      <td>1</td>\n",
       "      <td>Futrelle, Mrs. Jacques Heath (Lily May Peel)</td>\n",
       "      <td>female</td>\n",
       "      <td>35.0</td>\n",
       "      <td>1</td>\n",
       "      <td>0</td>\n",
       "      <td>113803</td>\n",
       "      <td>53.1000</td>\n",
       "      <td>C123</td>\n",
       "      <td>S</td>\n",
       "    </tr>\n",
       "    <tr>\n",
       "      <th>4</th>\n",
       "      <td>0</td>\n",
       "      <td>3</td>\n",
       "      <td>Allen, Mr. William Henry</td>\n",
       "      <td>male</td>\n",
       "      <td>35.0</td>\n",
       "      <td>0</td>\n",
       "      <td>0</td>\n",
       "      <td>373450</td>\n",
       "      <td>8.0500</td>\n",
       "      <td>NaN</td>\n",
       "      <td>S</td>\n",
       "    </tr>\n",
       "  </tbody>\n",
       "</table>\n",
       "</div>"
      ],
      "text/plain": [
       "   Survived  Pclass                                               Name  \\\n",
       "0         0       3                            Braund, Mr. Owen Harris   \n",
       "1         1       1  Cumings, Mrs. John Bradley (Florence Briggs Th...   \n",
       "2         1       3                             Heikkinen, Miss. Laina   \n",
       "3         1       1       Futrelle, Mrs. Jacques Heath (Lily May Peel)   \n",
       "4         0       3                           Allen, Mr. William Henry   \n",
       "\n",
       "      Sex   Age  SibSp  Parch            Ticket     Fare Cabin Embarked  \n",
       "0    male  22.0      1      0         A/5 21171   7.2500   NaN        S  \n",
       "1  female  38.0      1      0          PC 17599  71.2833   C85        C  \n",
       "2  female  26.0      0      0  STON/O2. 3101282   7.9250   NaN        S  \n",
       "3  female  35.0      1      0            113803  53.1000  C123        S  \n",
       "4    male  35.0      0      0            373450   8.0500   NaN        S  "
      ]
     },
     "execution_count": 2,
     "metadata": {},
     "output_type": "execute_result"
    }
   ],
   "source": [
    "# Loading Dataset and Printing first 5 records using head()\n",
    "excel_file = 'titanic.csv'\n",
    "dataset = pd.read_csv(excel_file)\n",
    "dataset.head()"
   ]
  },
  {
   "cell_type": "code",
   "execution_count": 3,
   "metadata": {},
   "outputs": [
    {
     "data": {
      "text/plain": [
       "(891, 11)"
      ]
     },
     "execution_count": 3,
     "metadata": {},
     "output_type": "execute_result"
    }
   ],
   "source": [
    "# Dimensionality of dataset i.e rows and columns\n",
    "dataset.shape"
   ]
  },
  {
   "cell_type": "markdown",
   "metadata": {},
   "source": [
    "fix imbalance and outlier issues for classificastion"
   ]
  },
  {
   "cell_type": "code",
   "execution_count": 4,
   "metadata": {},
   "outputs": [
    {
     "name": "stdout",
     "output_type": "stream",
     "text": [
      "<class 'pandas.core.frame.DataFrame'>\n",
      "RangeIndex: 891 entries, 0 to 890\n",
      "Data columns (total 11 columns):\n",
      " #   Column    Non-Null Count  Dtype  \n",
      "---  ------    --------------  -----  \n",
      " 0   Survived  891 non-null    int64  \n",
      " 1   Pclass    891 non-null    int64  \n",
      " 2   Name      891 non-null    object \n",
      " 3   Sex       891 non-null    object \n",
      " 4   Age       714 non-null    float64\n",
      " 5   SibSp     891 non-null    int64  \n",
      " 6   Parch     891 non-null    int64  \n",
      " 7   Ticket    891 non-null    object \n",
      " 8   Fare      891 non-null    float64\n",
      " 9   Cabin     204 non-null    object \n",
      " 10  Embarked  889 non-null    object \n",
      "dtypes: float64(2), int64(4), object(5)\n",
      "memory usage: 76.7+ KB\n"
     ]
    }
   ],
   "source": [
    "# Printing a concise summary of a DataFrame.\n",
    "# info method prints information about a DataFrame including the index dtype and columns, non-null values and memory usage.\n",
    "dataset.info()"
   ]
  },
  {
   "cell_type": "markdown",
   "metadata": {},
   "source": [
    "After carefully looking at data we decided to drop columns Cabin, Name, Fare, Ticket as it will not play any important role to state the passenger will survive or not : "
   ]
  },
  {
   "cell_type": "code",
   "execution_count": 5,
   "metadata": {},
   "outputs": [],
   "source": [
    "# drop least valuable columns from the dataset using .drop()\n",
    "# with inplace = True , the data will be modified in place and no need to store it again in a varaible\n",
    "dataset.drop(['Name','Ticket','Cabin',\"Fare\"], axis=1, inplace=True)"
   ]
  },
  {
   "cell_type": "code",
   "execution_count": 6,
   "metadata": {},
   "outputs": [
    {
     "data": {
      "text/html": [
       "<div>\n",
       "<style scoped>\n",
       "    .dataframe tbody tr th:only-of-type {\n",
       "        vertical-align: middle;\n",
       "    }\n",
       "\n",
       "    .dataframe tbody tr th {\n",
       "        vertical-align: top;\n",
       "    }\n",
       "\n",
       "    .dataframe thead th {\n",
       "        text-align: right;\n",
       "    }\n",
       "</style>\n",
       "<table border=\"1\" class=\"dataframe\">\n",
       "  <thead>\n",
       "    <tr style=\"text-align: right;\">\n",
       "      <th></th>\n",
       "      <th>Survived</th>\n",
       "      <th>Pclass</th>\n",
       "      <th>Sex</th>\n",
       "      <th>Age</th>\n",
       "      <th>SibSp</th>\n",
       "      <th>Parch</th>\n",
       "      <th>Embarked</th>\n",
       "    </tr>\n",
       "  </thead>\n",
       "  <tbody>\n",
       "    <tr>\n",
       "      <th>0</th>\n",
       "      <td>0</td>\n",
       "      <td>3</td>\n",
       "      <td>male</td>\n",
       "      <td>22.0</td>\n",
       "      <td>1</td>\n",
       "      <td>0</td>\n",
       "      <td>S</td>\n",
       "    </tr>\n",
       "    <tr>\n",
       "      <th>1</th>\n",
       "      <td>1</td>\n",
       "      <td>1</td>\n",
       "      <td>female</td>\n",
       "      <td>38.0</td>\n",
       "      <td>1</td>\n",
       "      <td>0</td>\n",
       "      <td>C</td>\n",
       "    </tr>\n",
       "    <tr>\n",
       "      <th>2</th>\n",
       "      <td>1</td>\n",
       "      <td>3</td>\n",
       "      <td>female</td>\n",
       "      <td>26.0</td>\n",
       "      <td>0</td>\n",
       "      <td>0</td>\n",
       "      <td>S</td>\n",
       "    </tr>\n",
       "    <tr>\n",
       "      <th>3</th>\n",
       "      <td>1</td>\n",
       "      <td>1</td>\n",
       "      <td>female</td>\n",
       "      <td>35.0</td>\n",
       "      <td>1</td>\n",
       "      <td>0</td>\n",
       "      <td>S</td>\n",
       "    </tr>\n",
       "    <tr>\n",
       "      <th>4</th>\n",
       "      <td>0</td>\n",
       "      <td>3</td>\n",
       "      <td>male</td>\n",
       "      <td>35.0</td>\n",
       "      <td>0</td>\n",
       "      <td>0</td>\n",
       "      <td>S</td>\n",
       "    </tr>\n",
       "  </tbody>\n",
       "</table>\n",
       "</div>"
      ],
      "text/plain": [
       "   Survived  Pclass     Sex   Age  SibSp  Parch Embarked\n",
       "0         0       3    male  22.0      1      0        S\n",
       "1         1       1  female  38.0      1      0        C\n",
       "2         1       3  female  26.0      0      0        S\n",
       "3         1       1  female  35.0      1      0        S\n",
       "4         0       3    male  35.0      0      0        S"
      ]
     },
     "execution_count": 6,
     "metadata": {},
     "output_type": "execute_result"
    }
   ],
   "source": [
    "# printing dataset with filtered columns\n",
    "dataset.head()"
   ]
  },
  {
   "cell_type": "code",
   "execution_count": 7,
   "metadata": {},
   "outputs": [
    {
     "name": "stdout",
     "output_type": "stream",
     "text": [
      "<class 'pandas.core.frame.DataFrame'>\n",
      "RangeIndex: 891 entries, 0 to 890\n",
      "Data columns (total 7 columns):\n",
      " #   Column    Non-Null Count  Dtype  \n",
      "---  ------    --------------  -----  \n",
      " 0   Survived  891 non-null    int64  \n",
      " 1   Pclass    891 non-null    int64  \n",
      " 2   Sex       891 non-null    object \n",
      " 3   Age       714 non-null    float64\n",
      " 4   SibSp     891 non-null    int64  \n",
      " 5   Parch     891 non-null    int64  \n",
      " 6   Embarked  889 non-null    object \n",
      "dtypes: float64(1), int64(4), object(2)\n",
      "memory usage: 48.9+ KB\n"
     ]
    }
   ],
   "source": [
    "# Printing a concise summary of a DataFrame.\n",
    "# info method prints information about a DataFrame including the index dtype and columns, non-null values and memory usage.\n",
    "# Using .info() to handle the missing values in the dataset\n",
    "dataset.info()"
   ]
  },
  {
   "cell_type": "markdown",
   "metadata": {},
   "source": [
    "- We can see that column Age includes Nan values so we can fill the NaN with mean age.\n",
    "\n",
    "- Also, column emmbark includes Nan values so it will logical to fill those values with most repeated values from entire dataset as there are families who has embarked from certain ports"
   ]
  },
  {
   "cell_type": "code",
   "execution_count": 8,
   "metadata": {},
   "outputs": [
    {
     "data": {
      "text/plain": [
       "29.69911764705882"
      ]
     },
     "execution_count": 8,
     "metadata": {},
     "output_type": "execute_result"
    }
   ],
   "source": [
    "# Finding mean value of the column 'Age'\n",
    "dataset['Age'].mean()"
   ]
  },
  {
   "cell_type": "code",
   "execution_count": 9,
   "metadata": {},
   "outputs": [
    {
     "data": {
      "text/plain": [
       "0    S\n",
       "dtype: object"
      ]
     },
     "execution_count": 9,
     "metadata": {},
     "output_type": "execute_result"
    }
   ],
   "source": [
    "# Finding mode of the column 'Embarked'\n",
    "dataset[\"Embarked\"].mode()"
   ]
  },
  {
   "cell_type": "code",
   "execution_count": 10,
   "metadata": {},
   "outputs": [],
   "source": [
    "dataset[\"Age\"] = dataset[\"Age\"].fillna(dataset[\"Age\"].mean())\n",
    "dataset[\"Embarked\"] = dataset[\"Embarked\"].fillna('S')"
   ]
  },
  {
   "cell_type": "code",
   "execution_count": 11,
   "metadata": {},
   "outputs": [
    {
     "data": {
      "text/plain": [
       "Survived    0\n",
       "Pclass      0\n",
       "Sex         0\n",
       "Age         0\n",
       "SibSp       0\n",
       "Parch       0\n",
       "Embarked    0\n",
       "dtype: int64"
      ]
     },
     "execution_count": 11,
     "metadata": {},
     "output_type": "execute_result"
    }
   ],
   "source": [
    "# checking for null values using .isnull() and chaining .sum() to get the sum of each null values\n",
    "dataset.isnull().sum()"
   ]
  },
  {
   "cell_type": "code",
   "execution_count": 12,
   "metadata": {},
   "outputs": [
    {
     "data": {
      "text/plain": [
       "Survived      int64\n",
       "Pclass        int64\n",
       "Sex          object\n",
       "Age         float64\n",
       "SibSp         int64\n",
       "Parch         int64\n",
       "Embarked     object\n",
       "dtype: object"
      ]
     },
     "execution_count": 12,
     "metadata": {},
     "output_type": "execute_result"
    }
   ],
   "source": [
    "# Getting the dtypes of each columns in the datatset\n",
    "dataset.dtypes"
   ]
  },
  {
   "cell_type": "markdown",
   "metadata": {},
   "source": [
    "Observation:\n",
    "\n",
    "- It is observed that column Sex has object data type and column 'Age' and 'Embarked' has data type which needs to be converted into int for efficient classifier."
   ]
  },
  {
   "cell_type": "code",
   "execution_count": 13,
   "metadata": {},
   "outputs": [
    {
     "data": {
      "text/plain": [
       "array(['male', 'female'], dtype=object)"
      ]
     },
     "execution_count": 13,
     "metadata": {},
     "output_type": "execute_result"
    }
   ],
   "source": [
    "# Printing unique values in column 'Age'\n",
    "dataset['Sex'].unique()"
   ]
  },
  {
   "cell_type": "code",
   "execution_count": 14,
   "metadata": {},
   "outputs": [
    {
     "data": {
      "text/plain": [
       "array(['S', 'C', 'Q'], dtype=object)"
      ]
     },
     "execution_count": 14,
     "metadata": {},
     "output_type": "execute_result"
    }
   ],
   "source": [
    "# Printing unique values in column 'Embarked'\n",
    "dataset['Embarked'].unique()"
   ]
  },
  {
   "cell_type": "code",
   "execution_count": 15,
   "metadata": {},
   "outputs": [],
   "source": [
    "# Using pandas.get_dummies to convert categorical variable of column 'Sex' into dummy variables.\n",
    "dummy_sex_col = pd.get_dummies(dataset['Sex'],drop_first=True)\n",
    "dataset=pd.concat([dataset,dummy_sex_col], axis=1)\n",
    "dataset.drop(['Sex'],axis=1, inplace=True)\n",
    "dataset.rename({'male': 'Sex'}, axis=1, inplace=True) "
   ]
  },
  {
   "cell_type": "code",
   "execution_count": 16,
   "metadata": {},
   "outputs": [],
   "source": [
    "# Creating a dictionary and storing in a variable named ship_ports\n",
    "# This dictionary contains key's as all unique values in colummn 'Embarked' and values as dummy 0,1,2\n",
    "ship_ports = {\"S\": 0, \"C\": 1, \"Q\": 2}\n",
    "\n",
    "# Storing the original dataset as list into a variable named data for easy looping for each entries and mapping each entries\n",
    "data = [dataset]\n",
    "\n",
    "# Looping over the 'Embarked' column in the data and mapping each record with new dummy values\n",
    "# map() is a built-in function that allows to process and transform all the items in an iterable\n",
    "for dataset in data:\n",
    "    # storing the new mapped values in the dataset\n",
    "    dataset['Embarked'] = dataset['Embarked'].map(ship_ports)"
   ]
  },
  {
   "cell_type": "code",
   "execution_count": 17,
   "metadata": {},
   "outputs": [
    {
     "data": {
      "text/html": [
       "<div>\n",
       "<style scoped>\n",
       "    .dataframe tbody tr th:only-of-type {\n",
       "        vertical-align: middle;\n",
       "    }\n",
       "\n",
       "    .dataframe tbody tr th {\n",
       "        vertical-align: top;\n",
       "    }\n",
       "\n",
       "    .dataframe thead th {\n",
       "        text-align: right;\n",
       "    }\n",
       "</style>\n",
       "<table border=\"1\" class=\"dataframe\">\n",
       "  <thead>\n",
       "    <tr style=\"text-align: right;\">\n",
       "      <th></th>\n",
       "      <th>Survived</th>\n",
       "      <th>Pclass</th>\n",
       "      <th>Age</th>\n",
       "      <th>SibSp</th>\n",
       "      <th>Parch</th>\n",
       "      <th>Embarked</th>\n",
       "      <th>Sex</th>\n",
       "    </tr>\n",
       "  </thead>\n",
       "  <tbody>\n",
       "    <tr>\n",
       "      <th>0</th>\n",
       "      <td>0</td>\n",
       "      <td>3</td>\n",
       "      <td>22.0</td>\n",
       "      <td>1</td>\n",
       "      <td>0</td>\n",
       "      <td>0</td>\n",
       "      <td>1</td>\n",
       "    </tr>\n",
       "    <tr>\n",
       "      <th>1</th>\n",
       "      <td>1</td>\n",
       "      <td>1</td>\n",
       "      <td>38.0</td>\n",
       "      <td>1</td>\n",
       "      <td>0</td>\n",
       "      <td>1</td>\n",
       "      <td>0</td>\n",
       "    </tr>\n",
       "    <tr>\n",
       "      <th>2</th>\n",
       "      <td>1</td>\n",
       "      <td>3</td>\n",
       "      <td>26.0</td>\n",
       "      <td>0</td>\n",
       "      <td>0</td>\n",
       "      <td>0</td>\n",
       "      <td>0</td>\n",
       "    </tr>\n",
       "    <tr>\n",
       "      <th>3</th>\n",
       "      <td>1</td>\n",
       "      <td>1</td>\n",
       "      <td>35.0</td>\n",
       "      <td>1</td>\n",
       "      <td>0</td>\n",
       "      <td>0</td>\n",
       "      <td>0</td>\n",
       "    </tr>\n",
       "    <tr>\n",
       "      <th>4</th>\n",
       "      <td>0</td>\n",
       "      <td>3</td>\n",
       "      <td>35.0</td>\n",
       "      <td>0</td>\n",
       "      <td>0</td>\n",
       "      <td>0</td>\n",
       "      <td>1</td>\n",
       "    </tr>\n",
       "  </tbody>\n",
       "</table>\n",
       "</div>"
      ],
      "text/plain": [
       "   Survived  Pclass   Age  SibSp  Parch  Embarked  Sex\n",
       "0         0       3  22.0      1      0         0    1\n",
       "1         1       1  38.0      1      0         1    0\n",
       "2         1       3  26.0      0      0         0    0\n",
       "3         1       1  35.0      1      0         0    0\n",
       "4         0       3  35.0      0      0         0    1"
      ]
     },
     "execution_count": 17,
     "metadata": {},
     "output_type": "execute_result"
    }
   ],
   "source": [
    "# Printing top 5 rows using .head()\n",
    "dataset.head()"
   ]
  },
  {
   "cell_type": "markdown",
   "metadata": {},
   "source": [
    "Since we are not considering names of the passengers it is feasible to group age's into \n",
    "0 = 'babies Age', \n",
    "1 = 'Children', \n",
    "2= 'Young Adults',\n",
    "3 ='Middle Age Adults',\n",
    "4 = 'Old Adults'\n"
   ]
  },
  {
   "cell_type": "code",
   "execution_count": 18,
   "metadata": {},
   "outputs": [
    {
     "data": {
      "text/plain": [
       "2    488\n",
       "3    202\n",
       "4    101\n",
       "1     76\n",
       "0     24\n",
       "Name: Age, dtype: int64"
      ]
     },
     "execution_count": 18,
     "metadata": {},
     "output_type": "execute_result"
    }
   ],
   "source": [
    "# Converting column 'Age' datatype to int using .astype()\n",
    "dataset['Age'] = dataset['Age'].astype(int)\n",
    "\n",
    "# Looping over the 'Age' column in the data and mapping each record with new group value\n",
    "# map() is a built-in function that allows to process and transform all the items in an iterable\n",
    "for dataset in data:\n",
    "    #using .loc to access rows and columns by label\n",
    "    dataset.loc[ dataset['Age'] <= 2, 'Age'] = 0\n",
    "    dataset.loc[(dataset['Age'] >= 3) & (dataset['Age'] <= 16), 'Age'] = 1\n",
    "    dataset.loc[(dataset['Age'] >= 17) & (dataset['Age'] <= 30), 'Age'] = 2\n",
    "    dataset.loc[(dataset['Age'] >= 31) & (dataset['Age'] <= 45), 'Age'] = 3\n",
    "    dataset.loc[ dataset['Age'] >= 45, 'Age'] = 4\n",
    "\n",
    "# Usinh .value_coumts to get each counts of unique values i.e each count of newly formed age groups\n",
    "dataset['Age'].value_counts()"
   ]
  },
  {
   "cell_type": "code",
   "execution_count": 19,
   "metadata": {},
   "outputs": [
    {
     "name": "stdout",
     "output_type": "stream",
     "text": [
      "<class 'pandas.core.frame.DataFrame'>\n",
      "RangeIndex: 891 entries, 0 to 890\n",
      "Data columns (total 7 columns):\n",
      " #   Column    Non-Null Count  Dtype\n",
      "---  ------    --------------  -----\n",
      " 0   Survived  891 non-null    int64\n",
      " 1   Pclass    891 non-null    int64\n",
      " 2   Age       891 non-null    int64\n",
      " 3   SibSp     891 non-null    int64\n",
      " 4   Parch     891 non-null    int64\n",
      " 5   Embarked  891 non-null    int64\n",
      " 6   Sex       891 non-null    int64\n",
      "dtypes: int64(7)\n",
      "memory usage: 48.9 KB\n"
     ]
    }
   ],
   "source": [
    "# The column 'Sex' datatype is unsigned int i.e uint, so we change it to int using .astype()\n",
    "dataset['Sex'] = dataset['Sex'].astype(int)\n",
    "dataset.info()"
   ]
  },
  {
   "cell_type": "markdown",
   "metadata": {},
   "source": [
    "Observation:\n",
    "\n",
    "We have succesfully converted the dataset in to the format which can be given to classsifier"
   ]
  },
  {
   "cell_type": "code",
   "execution_count": 20,
   "metadata": {},
   "outputs": [
    {
     "name": "stdout",
     "output_type": "stream",
     "text": [
      "Shape of the X Attributes and y label:\n",
      "-------------------------------------\n",
      "Shape of X: (891, 6)\n",
      "Shape of y: (891,)\n"
     ]
    }
   ],
   "source": [
    "# Dividing dataset into X attributes and y label\n",
    "# dropping column 'Survived' from the dataset since it will be our target\n",
    "X = dataset.drop(labels=['Survived'], axis=1)\n",
    "y = dataset['Survived']\n",
    "print('Shape of the X Attributes and y label:')\n",
    "print('-------------------------------------')\n",
    "print('Shape of X:',X.shape)\n",
    "print('Shape of y:',y.shape)"
   ]
  },
  {
   "cell_type": "code",
   "execution_count": 21,
   "metadata": {},
   "outputs": [],
   "source": [
    "## Feature Selection"
   ]
  },
  {
   "cell_type": "markdown",
   "metadata": {},
   "source": [
    "To select best 3 attributes we use information gain to find the dependency of features with respect to target y and select with higher values indicating high dependency.\n",
    "\n",
    "The function relies on nonparametric methods based on entropy estimation from k-nearest neighbors distances\n",
    "\n",
    "Ref Link: https://scikit-learn.org/stable/modules/generated/sklearn.feature_selection.mutual_info_classif.html\n",
    "Ref Link: https://scikit-learn.org/stable/modules/generated/sklearn.feature_selection.SelectKBest.html"
   ]
  },
  {
   "cell_type": "code",
   "execution_count": 22,
   "metadata": {},
   "outputs": [
    {
     "data": {
      "text/plain": [
       "array([0.07578765, 0.        , 0.01156604, 0.01795642, 0.        ,\n",
       "       0.14722541])"
      ]
     },
     "execution_count": 22,
     "metadata": {},
     "output_type": "execute_result"
    }
   ],
   "source": [
    "# Finding best 3 attribute using mutual_info_classif which calculates entropy\n",
    "# creating mutual_info_classif object by passing X and y and storing it in a variable 'info'\n",
    "info = mutual_info_classif(X, y)\n",
    "\n",
    "# printing these values and these values will be between 0-1\n",
    "info"
   ]
  },
  {
   "cell_type": "code",
   "execution_count": 23,
   "metadata": {},
   "outputs": [
    {
     "name": "stdout",
     "output_type": "stream",
     "text": [
      "Features with scores\n",
      "--------------------\n",
      "Sex         0.147225\n",
      "Pclass      0.075788\n",
      "Parch       0.017956\n",
      "SibSp       0.011566\n",
      "Age         0.000000\n",
      "Embarked    0.000000\n",
      "dtype: float64\n"
     ]
    }
   ],
   "source": [
    "#  storing the values in a variable named info and printing the values in descending order.\n",
    "# To find out whihc feature has highest value\n",
    "# pd. series will convert array into series\n",
    "info = pd.Series(info)\n",
    "\n",
    "# passing index as the column names\n",
    "info.index = X.columns\n",
    "\n",
    "# sorting the values in descending order and storing them in sort_info variable to print\n",
    "sort_info= info.sort_values(ascending=False)\n",
    "print('Features with scores')\n",
    "print('--------------------')\n",
    "print(sort_info)"
   ]
  },
  {
   "cell_type": "markdown",
   "metadata": {},
   "source": [
    "Observation:\n",
    "    \n",
    "The higher the values it indicates the dependency of that particular feature on the target variable is high.\n",
    "\n",
    "So it can be consider as our best feature i.e most important feature."
   ]
  },
  {
   "cell_type": "code",
   "execution_count": 24,
   "metadata": {},
   "outputs": [
    {
     "data": {
      "text/plain": [
       "Text(0.5, 1.0, 'Mutual Information Values Per Features')"
      ]
     },
     "execution_count": 24,
     "metadata": {},
     "output_type": "execute_result"
    },
    {
     "data": {
      "image/png": "[encoded data removed]",
      "text/plain": [
       "<Figure size 1152x576 with 1 Axes>"
      ]
     },
     "metadata": {
      "needs_background": "light"
     },
     "output_type": "display_data"
    }
   ],
   "source": [
    "# plotting series data using .plot\n",
    "# sorted values is stored in a variable name info_bar\n",
    "info_bar=info.sort_values(ascending=False)\n",
    "\n",
    "# figure size of the visualization\n",
    "plt.rcParams[\"figure.figsize\"] = (16,8)\n",
    "# plotting the bar\n",
    "info_bar.plot(kind='bar', color='r', alpha=0.7)\n",
    "plt.xlabel('Features')\n",
    "plt.ylabel('Scores')\n",
    "plt.xticks(rotation = 0)\n",
    "plt.title('Mutual Information Values Per Features')\n",
    "\n"
   ]
  },
  {
   "cell_type": "code",
   "execution_count": 25,
   "metadata": {},
   "outputs": [
    {
     "name": "stdout",
     "output_type": "stream",
     "text": [
      "Top Three Features:\n",
      "------------------\n",
      "1 Feature: Pclass\n",
      "2 Feature: SibSp\n",
      "3 Feature: Sex\n"
     ]
    }
   ],
   "source": [
    "# Selecting features according to the k highest scores.\n",
    "# Selecting features using mutual_info_classif score function and k i.e no of features and we Will select the top 3 important features\n",
    "# We want best 3 feature\n",
    "k = 3\n",
    "# storing best 3 features in the variable names best_three\n",
    "best_three = SelectKBest(mutual_info_classif,k)\n",
    "#Running score function on (X, y) using .fit to get features\n",
    "best_three.fit(X, y)\n",
    "#using get_support() to get a mask, or integer index, of the features selected.\n",
    "top_three_feat = X.columns[best_three.get_support()]\n",
    "\n",
    "# printing top 3 features\n",
    "print('Top Three Features:')\n",
    "print('------------------')\n",
    "\n",
    "# using for loop to print data for better understanding\n",
    "# c is the counter for indexing which is initialize to 0 and will increment on every iteration\n",
    "c=0\n",
    "for i in top_three_feat:\n",
    "    c = c + 1\n",
    "    print(c,'Feature: {}'.format(i))\n",
    "  "
   ]
  },
  {
   "cell_type": "markdown",
   "metadata": {},
   "source": [
    "### Note:\n",
    "Select K best will always select top features among all available features, several fits on X,y would yield different features everytime.\n",
    "\n",
    "But, with considering the average of multiple fit on (X,y) we decide to choose our best Three Features as:\n",
    "\n",
    "    1. Age\n",
    "    \n",
    "    2. Sex\n",
    "    \n",
    "    3. Embarked"
   ]
  },
  {
   "cell_type": "code",
   "execution_count": 26,
   "metadata": {},
   "outputs": [],
   "source": [
    "# Creating new X attribute with best 3 featurtes\n",
    "X_new = X[['Age','Sex','Embarked']]"
   ]
  },
  {
   "cell_type": "code",
   "execution_count": 27,
   "metadata": {},
   "outputs": [
    {
     "name": "stdout",
     "output_type": "stream",
     "text": [
      "Dimensionality of Train and Test data for X and y\n",
      "-------------------------------------------------\n",
      "Shape of X_train: (668, 3)\n",
      "Shape of Y_train: (668,)\n",
      "Shape of X_test: (223, 3)\n",
      "Shape of y_test: (223,)\n"
     ]
    }
   ],
   "source": [
    "# Spliting dataset into traing data and testing data\n",
    "# Spliting the dataset 75% for training, and 25% for testing the classifier\n",
    "from sklearn.model_selection import train_test_split\n",
    "X_train,X_test,y_train,y_test=train_test_split(X_new,y,test_size=0.25,random_state=0)\n",
    "print('Dimensionality of Train and Test data for X and y')\n",
    "print('-------------------------------------------------')\n",
    "print('Shape of X_train:',X_train.shape)\n",
    "print('Shape of Y_train:',y_train.shape)\n",
    "print('Shape of X_test:',X_test.shape)\n",
    "print('Shape of y_test:',y_test.shape)"
   ]
  },
  {
   "cell_type": "code",
   "execution_count": 28,
   "metadata": {},
   "outputs": [],
   "source": [
    "# elbow method to determine k value\n",
    "## Elbow method\n",
    "\n",
    "\n",
    "# creating a empty error rate list to store the error rates\n",
    "error_rate = []\n",
    "# 1-30 is the all possible k values and 30 different iterations for each k value\n",
    "# we choose 30 because our dataset contains approximately 900 records so square root of 900 is 30\n",
    "for i in range(1,30):\n",
    " \n",
    " # Classifier implementing the k-nearest neighbors vote and storing it in variable knn_neigh\n",
    " knn_neigh = KNeighborsClassifier(n_neighbors=i)\n",
    " # Fitting the k-nearest neighbors classifier from the training dataset.\n",
    " knn_neigh.fit(X_train,y_train)\n",
    " # Predicting the class labels for the provided data.\n",
    " predict = knn_neigh.predict(X_test)\n",
    " # appending error rate to the error_list list\n",
    " error_rate.append(np.mean( predict != y_test))"
   ]
  },
  {
   "cell_type": "code",
   "execution_count": 29,
   "metadata": {},
   "outputs": [
    {
     "data": {
      "text/plain": [
       "Text(0, 0.5, 'Error Rate')"
      ]
     },
     "execution_count": 29,
     "metadata": {},
     "output_type": "execute_result"
    },
    {
     "data": {
      "image/png": "[encoded data removed]",
      "text/plain": [
       "<Figure size 864x576 with 1 Axes>"
      ]
     },
     "metadata": {
      "needs_background": "light"
     },
     "output_type": "display_data"
    }
   ],
   "source": [
    "# plotting Error rate vs \n",
    "plt.figure(figsize=(12,8))\n",
    "plt.plot(range(1,30),error_rate,color= 'green', linestyle='solid', marker='*',markerfacecolor='black', markersize=12)\n",
    "plt.title('Error Rate vs. K-Value')\n",
    "plt.xlabel('K-Value')\n",
    "plt.ylabel('Error Rate')\n",
    "\n"
   ]
  },
  {
   "cell_type": "markdown",
   "metadata": {},
   "source": [
    "Observation:\n",
    "\n",
    "- When the K-Value was between 1 to 4 the error rate was very high.\n",
    "\n",
    "- After K-value 4 the error rate came drastically down and again error rate went up near K-value 14\n",
    "\n",
    "- But after K-Value 14 the error rate went down and is stable around 0.10 - 0.22, so we can consider best K-value as 15"
   ]
  },
  {
   "cell_type": "markdown",
   "metadata": {},
   "source": [
    "Along with Elbow method, there are other methods to find best K value are by using:\n",
    "\n",
    "Silhouette Method\n",
    "Intercluster Distances\n",
    "Silhouette Method: The silhouette Method is also a method to find the optimal number of clusters and interpretation and validation of consistency within clusters of data. The silhouette method computes silhouette coefficients of each point that measure how much a point is similar to its own cluster (cohesion) compared to other clusters (seperation). By providing a succinct graphical representation of how well each object has been classified. This is done by using a formula: s(i)= b(i)-a(i)/max(a(i),b(i));\n",
    "\n",
    "Intercluster Distances are evaluated using Distance Metrics having their own mathmatical formulae (eg: Minkowiski Distance, Euclidean Distance , Manhattan Distance etc)"
   ]
  },
  {
   "cell_type": "code",
   "execution_count": 30,
   "metadata": {},
   "outputs": [
    {
     "name": "stdout",
     "output_type": "stream",
     "text": [
      "With K=3\n",
      "              precision    recall  f1-score   support\n",
      "\n",
      "           0       0.75      0.83      0.78       139\n",
      "           1       0.65      0.54      0.59        84\n",
      "\n",
      "    accuracy                           0.72       223\n",
      "   macro avg       0.70      0.68      0.69       223\n",
      "weighted avg       0.71      0.72      0.71       223\n",
      "\n"
     ]
    }
   ],
   "source": [
    "#Training the model with k=3 and using euclidean distance to calculate distance\n",
    "n = 3\n",
    "knn_neigh=KNeighborsClassifier(n_neighbors=n,metric='euclidean') \n",
    "# Fitting the k-nearest neighbors classifier from the training dataset.\n",
    "knn_neigh.fit(X_train,y_train) \n",
    "# Predict the class labels for the provided data.\n",
    "pred=knn_neigh.predict(X_test)\n",
    "print('With K=3')\n",
    "#  the classification Report ti includes:precision, recall, f1-score, and support\n",
    "print(classification_report(y_test, pred)) "
   ]
  },
  {
   "cell_type": "code",
   "execution_count": 31,
   "metadata": {},
   "outputs": [
    {
     "name": "stdout",
     "output_type": "stream",
     "text": [
      "                Predicted         \n",
      "                 Negative Positive\n",
      "Actual Negative       115       24\n",
      "       Positive        39       45\n"
     ]
    }
   ],
   "source": [
    "# Showcase the result in the confusion matrix\n",
    "NN_cm = pd.DataFrame(\n",
    "    confusion_matrix(y_test, pred),\n",
    "    index = [['Actual', 'Actual'], ['Negative', 'Positive']],\n",
    "    columns = [['Predicted', 'Predicted'], ['Negative', 'Positive']])\n",
    "print(NN_cm)"
   ]
  },
  {
   "cell_type": "code",
   "execution_count": 32,
   "metadata": {},
   "outputs": [
    {
     "data": {
      "text/plain": [
       "Text(123.0, 0.5, 'Actual Values')"
      ]
     },
     "execution_count": 32,
     "metadata": {},
     "output_type": "execute_result"
    },
    {
     "data": {
      "image/png": "[encoded data removed]",
      "text/plain": [
       "<Figure size 1152x576 with 2 Axes>"
      ]
     },
     "metadata": {
      "needs_background": "light"
     },
     "output_type": "display_data"
    }
   ],
   "source": [
    "# Using seaborn to make the confusion matrix graphically \n",
    "# aesthetic and more intelligible\n",
    "sns.heatmap(NN_cm, annot = True, fmt=\".4g\")\n",
    "plt.xlabel(\"Predicted Values\")\n",
    "plt.ylabel(\"Actual Values\")"
   ]
  },
  {
   "cell_type": "code",
   "execution_count": 33,
   "metadata": {},
   "outputs": [
    {
     "name": "stdout",
     "output_type": "stream",
     "text": [
      "With K=5\n",
      "              precision    recall  f1-score   support\n",
      "\n",
      "           0       0.81      0.78      0.80       139\n",
      "           1       0.66      0.70      0.68        84\n",
      "\n",
      "    accuracy                           0.75       223\n",
      "   macro avg       0.74      0.74      0.74       223\n",
      "weighted avg       0.76      0.75      0.75       223\n",
      "\n"
     ]
    }
   ],
   "source": [
    "#Training the model with k=5 and using euclidean distance to calculate distance\n",
    "n = 5\n",
    "knn_neigh=KNeighborsClassifier(n_neighbors=n,metric='euclidean') \n",
    "# Fitting the k-nearest neighbors classifier from the training dataset.\n",
    "knn_neigh.fit(X_train,y_train) \n",
    "# Predict the class labels for the provided data.\n",
    "pred=knn_neigh.predict(X_test)\n",
    "print('With K=5')\n",
    "#  the classification Report ti includes:precision, recall, f1-score, and support\n",
    "print(classification_report(y_test, pred)) "
   ]
  },
  {
   "cell_type": "code",
   "execution_count": 34,
   "metadata": {},
   "outputs": [
    {
     "name": "stdout",
     "output_type": "stream",
     "text": [
      "                Predicted         \n",
      "                 Negative Positive\n",
      "Actual Negative       109       30\n",
      "       Positive        25       59\n"
     ]
    }
   ],
   "source": [
    "# Showcase the result in the confusion matrix\n",
    "NN_cm = pd.DataFrame(\n",
    "    confusion_matrix(y_test, pred),\n",
    "    index = [['Actual', 'Actual'], ['Negative', 'Positive']],\n",
    "    columns = [['Predicted', 'Predicted'], ['Negative', 'Positive']])\n",
    "print(NN_cm)"
   ]
  },
  {
   "cell_type": "code",
   "execution_count": 35,
   "metadata": {},
   "outputs": [
    {
     "data": {
      "text/plain": [
       "Text(123.0, 0.5, 'Actual Values')"
      ]
     },
     "execution_count": 35,
     "metadata": {},
     "output_type": "execute_result"
    },
    {
     "data": {
      "image/png": "[encoded data removed]",
      "text/plain": [
       "<Figure size 1152x576 with 2 Axes>"
      ]
     },
     "metadata": {
      "needs_background": "light"
     },
     "output_type": "display_data"
    }
   ],
   "source": [
    "# Using seaborn to make the confusion matrix graphically \n",
    "# aesthetic and more intelligible\n",
    "sns.heatmap(NN_cm, annot = True, fmt=\".4g\")\n",
    "plt.xlabel(\"Predicted Values\")\n",
    "plt.ylabel(\"Actual Values\")"
   ]
  },
  {
   "cell_type": "code",
   "execution_count": 36,
   "metadata": {},
   "outputs": [
    {
     "name": "stdout",
     "output_type": "stream",
     "text": [
      "With K=15\n",
      "              precision    recall  f1-score   support\n",
      "\n",
      "           0       0.83      0.82      0.83       139\n",
      "           1       0.71      0.73      0.72        84\n",
      "\n",
      "    accuracy                           0.78       223\n",
      "   macro avg       0.77      0.77      0.77       223\n",
      "weighted avg       0.79      0.78      0.79       223\n",
      "\n"
     ]
    }
   ],
   "source": [
    "#Training the model with k=15 and using euclidean distance to calculate distance\n",
    "n = 15\n",
    "knn_neigh=KNeighborsClassifier(n_neighbors=n,metric='euclidean') \n",
    "# Fitting the k-nearest neighbors classifier from the training dataset.\n",
    "knn_neigh.fit(X_train,y_train) \n",
    "# Predict the class labels for the provided data.\n",
    "pred=knn_neigh.predict(X_test)\n",
    "print('With K=15')\n",
    "# the classification Report ti includes:precision, recall, f1-score, and support\n",
    "print(classification_report(y_test, pred)) "
   ]
  },
  {
   "cell_type": "code",
   "execution_count": 37,
   "metadata": {},
   "outputs": [
    {
     "name": "stdout",
     "output_type": "stream",
     "text": [
      "                Predicted         \n",
      "                 Negative Positive\n",
      "Actual Negative       114       25\n",
      "       Positive        23       61\n"
     ]
    }
   ],
   "source": [
    "# Showcase the result in the confusion matrix\n",
    "NN_cm = pd.DataFrame(\n",
    "    confusion_matrix(y_test, pred),\n",
    "    index = [['Actual', 'Actual'], ['Negative', 'Positive']],\n",
    "    columns = [['Predicted', 'Predicted'], ['Negative', 'Positive']])\n",
    "print(NN_cm)"
   ]
  },
  {
   "cell_type": "code",
   "execution_count": 38,
   "metadata": {},
   "outputs": [
    {
     "data": {
      "text/plain": [
       "Text(123.0, 0.5, 'Actual Values')"
      ]
     },
     "execution_count": 38,
     "metadata": {},
     "output_type": "execute_result"
    },
    {
     "data": {
      "image/png": "[encoded data removed]",
      "text/plain": [
       "<Figure size 1152x576 with 2 Axes>"
      ]
     },
     "metadata": {
      "needs_background": "light"
     },
     "output_type": "display_data"
    }
   ],
   "source": [
    "# Using seaborn to make the confusion matrix graphically \n",
    "# aesthetic and more intelligible\n",
    "sns.heatmap(NN_cm, annot = True, fmt=\".4g\")\n",
    "plt.xlabel(\"Predicted Values\")\n",
    "plt.ylabel(\"Actual Values\")"
   ]
  }
 ],
 "metadata": {
  "kernelspec": {
   "display_name": "Python 3",
   "language": "python",
   "name": "python3"
  },
  "language_info": {
   "codemirror_mode": {
    "name": "ipython",
    "version": 3
   },
   "file_extension": ".py",
   "mimetype": "text/x-python",
   "name": "python",
   "nbconvert_exporter": "python",
   "pygments_lexer": "ipython3",
   "version": "3.9.0"
  }
 },
 "nbformat": 4,
 "nbformat_minor": 4
}
